{
 "cells": [
  {
   "cell_type": "markdown",
   "id": "ff06d864-3ff2-45fc-839b-bd60dc244681",
   "metadata": {},
   "source": [
    "# 🧩 Online Retail II ETL Project\n",
    "\n",
    "**Goal:** Build a complete ETL process for a retail dataset (UCI Online Retail II).  \n",
    "**Tools:** Python (Pandas) → Cleaned CSV → Power BI Dashboard  \n",
    "**Output:** Ready-to-use dataset for BI dashboards."
   ]
  },
  {
   "cell_type": "markdown",
   "id": "4f2c7a19-0c8b-4511-950f-1bfddf12fa30",
   "metadata": {},
   "source": [
    "# --- 1. Import Libraries ---"
   ]
  },
  {
   "cell_type": "code",
   "execution_count": 1,
   "id": "5d40625d-80e4-4c17-b01d-67b9955b5a03",
   "metadata": {},
   "outputs": [],
   "source": [
    "import pandas as pd\n",
    "from pathlib import Path"
   ]
  },
  {
   "cell_type": "markdown",
   "id": "2c2bf51d-37b7-4844-94ae-fd2ba4fb96f6",
   "metadata": {},
   "source": [
    "# --- 2. Define Paths ---"
   ]
  },
  {
   "cell_type": "code",
   "execution_count": 2,
   "id": "1bfeedcd-d677-4f69-a847-c750707f159d",
   "metadata": {},
   "outputs": [],
   "source": [
    "BASE_DIR = Path.cwd().parent if Path.cwd().name == 'etl' else Path.cwd()\n",
    "RAW_DIR = BASE_DIR / \"data\" / \"raw\"\n",
    "PROCESSED_DIR = BASE_DIR / \"data\" / \"processed\"\n",
    "PROCESSED_DIR.mkdir(parents=True, exist_ok=True)"
   ]
  },
  {
   "cell_type": "code",
   "execution_count": 3,
   "id": "ba4c92a4-8bc2-4736-bc83-7629bb5a5ff9",
   "metadata": {},
   "outputs": [
    {
     "name": "stdout",
     "output_type": "stream",
     "text": [
      "📂 Raw: C:\\Users\\venzo\\retail-etl-powerbi\\data\\raw\n",
      "📂 Processed: C:\\Users\\venzo\\retail-etl-powerbi\\data\\processed\n"
     ]
    }
   ],
   "source": [
    "print(\"📂 Raw:\", RAW_DIR)\n",
    "print(\"📂 Processed:\", PROCESSED_DIR)"
   ]
  },
  {
   "cell_type": "markdown",
   "id": "4f834c78-448a-46e1-8d35-160a1aa94c8b",
   "metadata": {},
   "source": [
    "# --- 3. Load the Excel file ---\n",
    "The dataset has two sheets: 'Year 2009-2010' and 'Year 2010-2011'\n",
    "You can load one or merge both"
   ]
  },
  {
   "cell_type": "code",
   "execution_count": 4,
   "id": "0efd5ab4-7da4-4069-b1c3-36a535b7adeb",
   "metadata": {},
   "outputs": [],
   "source": [
    "file_path = RAW_DIR / \"online_retail_II.xlsx\""
   ]
  },
  {
   "cell_type": "code",
   "execution_count": 5,
   "id": "4307a63b-2df4-4b20-8f3e-3e28a16cabce",
   "metadata": {},
   "outputs": [],
   "source": [
    "df1 = pd.read_excel(file_path, sheet_name=\"Year 2009-2010\")\n",
    "df2 = pd.read_excel(file_path, sheet_name=\"Year 2010-2011\")"
   ]
  },
  {
   "cell_type": "markdown",
   "id": "341040f9-2ab2-4fa7-a195-5a5ffc4b3066",
   "metadata": {},
   "source": [
    "Combine both years"
   ]
  },
  {
   "cell_type": "code",
   "execution_count": 6,
   "id": "95d815d2-301f-4c59-bdee-3e3641d5e38f",
   "metadata": {},
   "outputs": [],
   "source": [
    "df = pd.concat([df1, df2], ignore_index=True)"
   ]
  },
  {
   "cell_type": "code",
   "execution_count": 7,
   "id": "90c2d0ee-9368-44b6-89b8-ce7029420028",
   "metadata": {},
   "outputs": [
    {
     "name": "stdout",
     "output_type": "stream",
     "text": [
      "Datos combinados: (1067371, 8)\n"
     ]
    }
   ],
   "source": [
    "print(\"Datos combinados:\", df.shape)"
   ]
  },
  {
   "cell_type": "code",
   "execution_count": 8,
   "id": "460141c8-0734-4582-abe0-d2a12862f781",
   "metadata": {},
   "outputs": [
    {
     "name": "stdout",
     "output_type": "stream",
     "text": [
      "<class 'pandas.core.frame.DataFrame'>\n",
      "RangeIndex: 1067371 entries, 0 to 1067370\n",
      "Data columns (total 8 columns):\n",
      " #   Column       Non-Null Count    Dtype         \n",
      "---  ------       --------------    -----         \n",
      " 0   Invoice      1067371 non-null  object        \n",
      " 1   StockCode    1067371 non-null  object        \n",
      " 2   Description  1062989 non-null  object        \n",
      " 3   Quantity     1067371 non-null  int64         \n",
      " 4   InvoiceDate  1067371 non-null  datetime64[ns]\n",
      " 5   Price        1067371 non-null  float64       \n",
      " 6   Customer ID  824364 non-null   float64       \n",
      " 7   Country      1067371 non-null  object        \n",
      "dtypes: datetime64[ns](1), float64(2), int64(1), object(4)\n",
      "memory usage: 65.1+ MB\n"
     ]
    }
   ],
   "source": [
    "df.info()"
   ]
  },
  {
   "cell_type": "code",
   "execution_count": 9,
   "id": "30a8ac5e-99fc-4cfd-848a-e7ee647571ac",
   "metadata": {},
   "outputs": [
    {
     "data": {
      "text/html": [
       "<div>\n",
       "<style scoped>\n",
       "    .dataframe tbody tr th:only-of-type {\n",
       "        vertical-align: middle;\n",
       "    }\n",
       "\n",
       "    .dataframe tbody tr th {\n",
       "        vertical-align: top;\n",
       "    }\n",
       "\n",
       "    .dataframe thead th {\n",
       "        text-align: right;\n",
       "    }\n",
       "</style>\n",
       "<table border=\"1\" class=\"dataframe\">\n",
       "  <thead>\n",
       "    <tr style=\"text-align: right;\">\n",
       "      <th></th>\n",
       "      <th>Invoice</th>\n",
       "      <th>StockCode</th>\n",
       "      <th>Description</th>\n",
       "      <th>Quantity</th>\n",
       "      <th>InvoiceDate</th>\n",
       "      <th>Price</th>\n",
       "      <th>Customer ID</th>\n",
       "      <th>Country</th>\n",
       "    </tr>\n",
       "  </thead>\n",
       "  <tbody>\n",
       "    <tr>\n",
       "      <th>0</th>\n",
       "      <td>489434</td>\n",
       "      <td>85048</td>\n",
       "      <td>15CM CHRISTMAS GLASS BALL 20 LIGHTS</td>\n",
       "      <td>12</td>\n",
       "      <td>2009-12-01 07:45:00</td>\n",
       "      <td>6.95</td>\n",
       "      <td>13085.0</td>\n",
       "      <td>United Kingdom</td>\n",
       "    </tr>\n",
       "    <tr>\n",
       "      <th>1</th>\n",
       "      <td>489434</td>\n",
       "      <td>79323P</td>\n",
       "      <td>PINK CHERRY LIGHTS</td>\n",
       "      <td>12</td>\n",
       "      <td>2009-12-01 07:45:00</td>\n",
       "      <td>6.75</td>\n",
       "      <td>13085.0</td>\n",
       "      <td>United Kingdom</td>\n",
       "    </tr>\n",
       "    <tr>\n",
       "      <th>2</th>\n",
       "      <td>489434</td>\n",
       "      <td>79323W</td>\n",
       "      <td>WHITE CHERRY LIGHTS</td>\n",
       "      <td>12</td>\n",
       "      <td>2009-12-01 07:45:00</td>\n",
       "      <td>6.75</td>\n",
       "      <td>13085.0</td>\n",
       "      <td>United Kingdom</td>\n",
       "    </tr>\n",
       "    <tr>\n",
       "      <th>3</th>\n",
       "      <td>489434</td>\n",
       "      <td>22041</td>\n",
       "      <td>RECORD FRAME 7\" SINGLE SIZE</td>\n",
       "      <td>48</td>\n",
       "      <td>2009-12-01 07:45:00</td>\n",
       "      <td>2.10</td>\n",
       "      <td>13085.0</td>\n",
       "      <td>United Kingdom</td>\n",
       "    </tr>\n",
       "    <tr>\n",
       "      <th>4</th>\n",
       "      <td>489434</td>\n",
       "      <td>21232</td>\n",
       "      <td>STRAWBERRY CERAMIC TRINKET BOX</td>\n",
       "      <td>24</td>\n",
       "      <td>2009-12-01 07:45:00</td>\n",
       "      <td>1.25</td>\n",
       "      <td>13085.0</td>\n",
       "      <td>United Kingdom</td>\n",
       "    </tr>\n",
       "  </tbody>\n",
       "</table>\n",
       "</div>"
      ],
      "text/plain": [
       "  Invoice StockCode                          Description  Quantity  \\\n",
       "0  489434     85048  15CM CHRISTMAS GLASS BALL 20 LIGHTS        12   \n",
       "1  489434    79323P                   PINK CHERRY LIGHTS        12   \n",
       "2  489434    79323W                  WHITE CHERRY LIGHTS        12   \n",
       "3  489434     22041         RECORD FRAME 7\" SINGLE SIZE         48   \n",
       "4  489434     21232       STRAWBERRY CERAMIC TRINKET BOX        24   \n",
       "\n",
       "          InvoiceDate  Price  Customer ID         Country  \n",
       "0 2009-12-01 07:45:00   6.95      13085.0  United Kingdom  \n",
       "1 2009-12-01 07:45:00   6.75      13085.0  United Kingdom  \n",
       "2 2009-12-01 07:45:00   6.75      13085.0  United Kingdom  \n",
       "3 2009-12-01 07:45:00   2.10      13085.0  United Kingdom  \n",
       "4 2009-12-01 07:45:00   1.25      13085.0  United Kingdom  "
      ]
     },
     "execution_count": 9,
     "metadata": {},
     "output_type": "execute_result"
    }
   ],
   "source": [
    "df.head()"
   ]
  },
  {
   "cell_type": "markdown",
   "id": "ab1ee7d4-fb5f-49f1-93c0-cbb4681bbc3f",
   "metadata": {},
   "source": [
    "# --- 3b. Inspect raw columns (quick sanity check) ---"
   ]
  },
  {
   "cell_type": "code",
   "execution_count": 10,
   "id": "ad731884-0fbc-498a-8fed-b768f1cb0e73",
   "metadata": {},
   "outputs": [
    {
     "name": "stdout",
     "output_type": "stream",
     "text": [
      "['Invoice', 'StockCode', 'Description', 'Quantity', 'InvoiceDate', 'Price', 'Customer ID', 'Country']\n"
     ]
    }
   ],
   "source": [
    "print(df.columns.tolist())"
   ]
  },
  {
   "cell_type": "markdown",
   "id": "cb80a633-8bcb-4856-a7c2-5d886fbb8011",
   "metadata": {},
   "source": [
    "# --- 3c. Standardize column names to a common schema ---"
   ]
  },
  {
   "cell_type": "markdown",
   "id": "87e3eab8-2f25-487a-b33c-6f648842ea94",
   "metadata": {},
   "source": [
    "Online Retail II often has: 'Invoice', 'StockCode', 'Description', 'Quantity','InvoiceDate', 'Price', 'Customer ID', 'Country'"
   ]
  },
  {
   "cell_type": "code",
   "execution_count": 11,
   "id": "fada80be-ba49-4a93-ba61-01fa7ad679dc",
   "metadata": {},
   "outputs": [
    {
     "name": "stdout",
     "output_type": "stream",
     "text": [
      "✅ Columns after standardization: ['InvoiceNo', 'StockCode', 'Description', 'Quantity', 'InvoiceDate', 'UnitPrice', 'CustomerID', 'Country']\n"
     ]
    }
   ],
   "source": [
    "def standardize_columns(df):\n",
    "    # Trim whitespace from headers\n",
    "    df = df.rename(columns=lambda c: c.strip())\n",
    "\n",
    "    # Build a flexible rename map\n",
    "    rename_map = {}\n",
    "    cols = set(df.columns)\n",
    "\n",
    "    if \"Price\" in cols:\n",
    "        rename_map[\"Price\"] = \"UnitPrice\"\n",
    "    # keep UnitPrice if it already exists (Retail I)\n",
    "\n",
    "    if \"Invoice\" in cols:\n",
    "        rename_map[\"Invoice\"] = \"InvoiceNo\"\n",
    "\n",
    "    if \"Customer ID\" in cols:\n",
    "        rename_map[\"Customer ID\"] = \"CustomerID\"\n",
    "    elif \"CustomerID\" in cols:\n",
    "        rename_map[\"CustomerID\"] = \"CustomerID\"  # no-op, just explicit\n",
    "\n",
    "    # Apply renames\n",
    "    df = df.rename(columns=rename_map)\n",
    "\n",
    "    # Ensure required columns exist\n",
    "    required = [\"InvoiceNo\",\"StockCode\",\"Description\",\"Quantity\",\"InvoiceDate\",\"UnitPrice\",\"CustomerID\",\"Country\"]\n",
    "    missing = [c for c in required if c not in df.columns]\n",
    "    if missing:\n",
    "        raise ValueError(f\"Missing required columns after rename: {missing}. \"\n",
    "                         f\"Got: {df.columns.tolist()}\")\n",
    "\n",
    "    return df\n",
    "\n",
    "df = standardize_columns(df)\n",
    "print(\"✅ Columns after standardization:\", df.columns.tolist())"
   ]
  },
  {
   "cell_type": "markdown",
   "id": "375f0b18-3561-4f90-b0b5-8ed8ef9c2f2d",
   "metadata": {},
   "source": [
    "# --- 4. Quick Exploration ---"
   ]
  },
  {
   "cell_type": "code",
   "execution_count": 12,
   "id": "65d69c59-a3a7-4a58-979b-8a06c5d2d5a1",
   "metadata": {},
   "outputs": [
    {
     "name": "stdout",
     "output_type": "stream",
     "text": [
      "Filas y columnas: (1067371, 8)\n",
      "\n",
      "Valores nulos por columna:\n",
      " InvoiceNo           0\n",
      "StockCode           0\n",
      "Description      4382\n",
      "Quantity            0\n",
      "InvoiceDate         0\n",
      "UnitPrice           0\n",
      "CustomerID     243007\n",
      "Country             0\n",
      "dtype: int64\n",
      "\n",
      "Valores únicos por columna:\n",
      " InvoiceNo      53628\n",
      "StockCode       5305\n",
      "Description     5698\n",
      "Quantity        1057\n",
      "InvoiceDate    47635\n",
      "UnitPrice       2807\n",
      "CustomerID      5942\n",
      "Country           43\n",
      "dtype: int64\n"
     ]
    }
   ],
   "source": [
    "print(\"Filas y columnas:\", df.shape)\n",
    "print(\"\\nValores nulos por columna:\\n\", df.isna().sum())\n",
    "print(\"\\nValores únicos por columna:\\n\", df.nunique())\n"
   ]
  },
  {
   "cell_type": "markdown",
   "id": "50db9a51-62b1-4992-b234-3d360b45a5b1",
   "metadata": {},
   "source": [
    "# --- 5. Data Cleaning ---"
   ]
  },
  {
   "cell_type": "code",
   "execution_count": 13,
   "id": "de557a64-959a-4799-9ecd-88fb6b3ddee4",
   "metadata": {},
   "outputs": [],
   "source": [
    "clean_df = df.copy()"
   ]
  },
  {
   "cell_type": "code",
   "execution_count": 14,
   "id": "62e98841-249f-48f8-a666-7aaf474b6c0b",
   "metadata": {},
   "outputs": [],
   "source": [
    "# Types\n",
    "clean_df[\"Quantity\"] = pd.to_numeric(clean_df[\"Quantity\"], errors=\"coerce\")\n",
    "clean_df[\"UnitPrice\"] = pd.to_numeric(clean_df[\"UnitPrice\"], errors=\"coerce\")\n",
    "clean_df[\"InvoiceDate\"] = pd.to_datetime(clean_df[\"InvoiceDate\"], errors=\"coerce\")"
   ]
  },
  {
   "cell_type": "code",
   "execution_count": 15,
   "id": "85ea3cd7-edcd-49fe-a254-5bf284abfecc",
   "metadata": {},
   "outputs": [],
   "source": [
    "# Remove exact duplicates\n",
    "clean_df = clean_df.drop_duplicates()"
   ]
  },
  {
   "cell_type": "code",
   "execution_count": 16,
   "id": "bd6bd03e-2502-4d02-9cd6-4270e18c1c4b",
   "metadata": {},
   "outputs": [],
   "source": [
    "# Create LineTotal\n",
    "clean_df[\"LineTotal\"] = clean_df[\"Quantity\"] * clean_df[\"UnitPrice\"]\n",
    "\n",
    "# Identify returns (Quantity < 0 or credit invoices starting with 'C')\n",
    "clean_df[\"IsReturn\"] = (clean_df[\"Quantity\"] < 0) | (clean_df[\"InvoiceNo\"].astype(str).str.startswith(\"C\", na=False))\n",
    "\n",
    "# Remove invalid price rows (keep returns)\n",
    "clean_df = clean_df[(clean_df[\"UnitPrice\"] > 0) | (clean_df[\"IsReturn\"])]\n",
    "\n",
    "# Fill missing CustomerID\n",
    "clean_df[\"CustomerID\"] = clean_df[\"CustomerID\"].fillna(\"Unknown\")"
   ]
  },
  {
   "cell_type": "code",
   "execution_count": 17,
   "id": "ca5e5e10-aa26-491d-90b8-4ae89d905695",
   "metadata": {},
   "outputs": [
    {
     "name": "stdout",
     "output_type": "stream",
     "text": [
      "✅ Cleaning completed. Shape: (1030410, 10)\n"
     ]
    },
    {
     "data": {
      "text/html": [
       "<div>\n",
       "<style scoped>\n",
       "    .dataframe tbody tr th:only-of-type {\n",
       "        vertical-align: middle;\n",
       "    }\n",
       "\n",
       "    .dataframe tbody tr th {\n",
       "        vertical-align: top;\n",
       "    }\n",
       "\n",
       "    .dataframe thead th {\n",
       "        text-align: right;\n",
       "    }\n",
       "</style>\n",
       "<table border=\"1\" class=\"dataframe\">\n",
       "  <thead>\n",
       "    <tr style=\"text-align: right;\">\n",
       "      <th></th>\n",
       "      <th>InvoiceNo</th>\n",
       "      <th>StockCode</th>\n",
       "      <th>Description</th>\n",
       "      <th>Quantity</th>\n",
       "      <th>InvoiceDate</th>\n",
       "      <th>UnitPrice</th>\n",
       "      <th>CustomerID</th>\n",
       "      <th>Country</th>\n",
       "      <th>LineTotal</th>\n",
       "      <th>IsReturn</th>\n",
       "    </tr>\n",
       "  </thead>\n",
       "  <tbody>\n",
       "    <tr>\n",
       "      <th>0</th>\n",
       "      <td>489434</td>\n",
       "      <td>85048</td>\n",
       "      <td>15CM CHRISTMAS GLASS BALL 20 LIGHTS</td>\n",
       "      <td>12</td>\n",
       "      <td>2009-12-01 07:45:00</td>\n",
       "      <td>6.95</td>\n",
       "      <td>13085.0</td>\n",
       "      <td>United Kingdom</td>\n",
       "      <td>83.4</td>\n",
       "      <td>False</td>\n",
       "    </tr>\n",
       "    <tr>\n",
       "      <th>1</th>\n",
       "      <td>489434</td>\n",
       "      <td>79323P</td>\n",
       "      <td>PINK CHERRY LIGHTS</td>\n",
       "      <td>12</td>\n",
       "      <td>2009-12-01 07:45:00</td>\n",
       "      <td>6.75</td>\n",
       "      <td>13085.0</td>\n",
       "      <td>United Kingdom</td>\n",
       "      <td>81.0</td>\n",
       "      <td>False</td>\n",
       "    </tr>\n",
       "    <tr>\n",
       "      <th>2</th>\n",
       "      <td>489434</td>\n",
       "      <td>79323W</td>\n",
       "      <td>WHITE CHERRY LIGHTS</td>\n",
       "      <td>12</td>\n",
       "      <td>2009-12-01 07:45:00</td>\n",
       "      <td>6.75</td>\n",
       "      <td>13085.0</td>\n",
       "      <td>United Kingdom</td>\n",
       "      <td>81.0</td>\n",
       "      <td>False</td>\n",
       "    </tr>\n",
       "    <tr>\n",
       "      <th>3</th>\n",
       "      <td>489434</td>\n",
       "      <td>22041</td>\n",
       "      <td>RECORD FRAME 7\" SINGLE SIZE</td>\n",
       "      <td>48</td>\n",
       "      <td>2009-12-01 07:45:00</td>\n",
       "      <td>2.10</td>\n",
       "      <td>13085.0</td>\n",
       "      <td>United Kingdom</td>\n",
       "      <td>100.8</td>\n",
       "      <td>False</td>\n",
       "    </tr>\n",
       "    <tr>\n",
       "      <th>4</th>\n",
       "      <td>489434</td>\n",
       "      <td>21232</td>\n",
       "      <td>STRAWBERRY CERAMIC TRINKET BOX</td>\n",
       "      <td>24</td>\n",
       "      <td>2009-12-01 07:45:00</td>\n",
       "      <td>1.25</td>\n",
       "      <td>13085.0</td>\n",
       "      <td>United Kingdom</td>\n",
       "      <td>30.0</td>\n",
       "      <td>False</td>\n",
       "    </tr>\n",
       "  </tbody>\n",
       "</table>\n",
       "</div>"
      ],
      "text/plain": [
       "  InvoiceNo StockCode                          Description  Quantity  \\\n",
       "0    489434     85048  15CM CHRISTMAS GLASS BALL 20 LIGHTS        12   \n",
       "1    489434    79323P                   PINK CHERRY LIGHTS        12   \n",
       "2    489434    79323W                  WHITE CHERRY LIGHTS        12   \n",
       "3    489434     22041         RECORD FRAME 7\" SINGLE SIZE         48   \n",
       "4    489434     21232       STRAWBERRY CERAMIC TRINKET BOX        24   \n",
       "\n",
       "          InvoiceDate  UnitPrice CustomerID         Country  LineTotal  \\\n",
       "0 2009-12-01 07:45:00       6.95    13085.0  United Kingdom       83.4   \n",
       "1 2009-12-01 07:45:00       6.75    13085.0  United Kingdom       81.0   \n",
       "2 2009-12-01 07:45:00       6.75    13085.0  United Kingdom       81.0   \n",
       "3 2009-12-01 07:45:00       2.10    13085.0  United Kingdom      100.8   \n",
       "4 2009-12-01 07:45:00       1.25    13085.0  United Kingdom       30.0   \n",
       "\n",
       "   IsReturn  \n",
       "0     False  \n",
       "1     False  \n",
       "2     False  \n",
       "3     False  \n",
       "4     False  "
      ]
     },
     "execution_count": 17,
     "metadata": {},
     "output_type": "execute_result"
    }
   ],
   "source": [
    "print(\"✅ Cleaning completed. Shape:\", clean_df.shape)\n",
    "clean_df.head()"
   ]
  },
  {
   "cell_type": "code",
   "execution_count": 18,
   "id": "147ceba5-8291-4149-ae27-e81f5001adad",
   "metadata": {},
   "outputs": [
    {
     "data": {
      "text/html": [
       "<div>\n",
       "<style scoped>\n",
       "    .dataframe tbody tr th:only-of-type {\n",
       "        vertical-align: middle;\n",
       "    }\n",
       "\n",
       "    .dataframe tbody tr th {\n",
       "        vertical-align: top;\n",
       "    }\n",
       "\n",
       "    .dataframe thead th {\n",
       "        text-align: right;\n",
       "    }\n",
       "</style>\n",
       "<table border=\"1\" class=\"dataframe\">\n",
       "  <thead>\n",
       "    <tr style=\"text-align: right;\">\n",
       "      <th></th>\n",
       "      <th>InvoiceNo</th>\n",
       "      <th>StockCode</th>\n",
       "      <th>Description</th>\n",
       "      <th>Quantity</th>\n",
       "      <th>InvoiceDate</th>\n",
       "      <th>UnitPrice</th>\n",
       "      <th>CustomerID</th>\n",
       "      <th>Country</th>\n",
       "      <th>LineTotal</th>\n",
       "      <th>IsReturn</th>\n",
       "    </tr>\n",
       "  </thead>\n",
       "  <tbody>\n",
       "    <tr>\n",
       "      <th>0</th>\n",
       "      <td>489434</td>\n",
       "      <td>85048</td>\n",
       "      <td>15CM CHRISTMAS GLASS BALL 20 LIGHTS</td>\n",
       "      <td>12</td>\n",
       "      <td>2009-12-01 07:45:00</td>\n",
       "      <td>6.95</td>\n",
       "      <td>13085.0</td>\n",
       "      <td>United Kingdom</td>\n",
       "      <td>83.4</td>\n",
       "      <td>False</td>\n",
       "    </tr>\n",
       "    <tr>\n",
       "      <th>1</th>\n",
       "      <td>489434</td>\n",
       "      <td>79323P</td>\n",
       "      <td>PINK CHERRY LIGHTS</td>\n",
       "      <td>12</td>\n",
       "      <td>2009-12-01 07:45:00</td>\n",
       "      <td>6.75</td>\n",
       "      <td>13085.0</td>\n",
       "      <td>United Kingdom</td>\n",
       "      <td>81.0</td>\n",
       "      <td>False</td>\n",
       "    </tr>\n",
       "    <tr>\n",
       "      <th>2</th>\n",
       "      <td>489434</td>\n",
       "      <td>79323W</td>\n",
       "      <td>WHITE CHERRY LIGHTS</td>\n",
       "      <td>12</td>\n",
       "      <td>2009-12-01 07:45:00</td>\n",
       "      <td>6.75</td>\n",
       "      <td>13085.0</td>\n",
       "      <td>United Kingdom</td>\n",
       "      <td>81.0</td>\n",
       "      <td>False</td>\n",
       "    </tr>\n",
       "    <tr>\n",
       "      <th>3</th>\n",
       "      <td>489434</td>\n",
       "      <td>22041</td>\n",
       "      <td>RECORD FRAME 7\" SINGLE SIZE</td>\n",
       "      <td>48</td>\n",
       "      <td>2009-12-01 07:45:00</td>\n",
       "      <td>2.10</td>\n",
       "      <td>13085.0</td>\n",
       "      <td>United Kingdom</td>\n",
       "      <td>100.8</td>\n",
       "      <td>False</td>\n",
       "    </tr>\n",
       "    <tr>\n",
       "      <th>4</th>\n",
       "      <td>489434</td>\n",
       "      <td>21232</td>\n",
       "      <td>STRAWBERRY CERAMIC TRINKET BOX</td>\n",
       "      <td>24</td>\n",
       "      <td>2009-12-01 07:45:00</td>\n",
       "      <td>1.25</td>\n",
       "      <td>13085.0</td>\n",
       "      <td>United Kingdom</td>\n",
       "      <td>30.0</td>\n",
       "      <td>False</td>\n",
       "    </tr>\n",
       "  </tbody>\n",
       "</table>\n",
       "</div>"
      ],
      "text/plain": [
       "  InvoiceNo StockCode                          Description  Quantity  \\\n",
       "0    489434     85048  15CM CHRISTMAS GLASS BALL 20 LIGHTS        12   \n",
       "1    489434    79323P                   PINK CHERRY LIGHTS        12   \n",
       "2    489434    79323W                  WHITE CHERRY LIGHTS        12   \n",
       "3    489434     22041         RECORD FRAME 7\" SINGLE SIZE         48   \n",
       "4    489434     21232       STRAWBERRY CERAMIC TRINKET BOX        24   \n",
       "\n",
       "          InvoiceDate  UnitPrice CustomerID         Country  LineTotal  \\\n",
       "0 2009-12-01 07:45:00       6.95    13085.0  United Kingdom       83.4   \n",
       "1 2009-12-01 07:45:00       6.75    13085.0  United Kingdom       81.0   \n",
       "2 2009-12-01 07:45:00       6.75    13085.0  United Kingdom       81.0   \n",
       "3 2009-12-01 07:45:00       2.10    13085.0  United Kingdom      100.8   \n",
       "4 2009-12-01 07:45:00       1.25    13085.0  United Kingdom       30.0   \n",
       "\n",
       "   IsReturn  \n",
       "0     False  \n",
       "1     False  \n",
       "2     False  \n",
       "3     False  \n",
       "4     False  "
      ]
     },
     "execution_count": 18,
     "metadata": {},
     "output_type": "execute_result"
    }
   ],
   "source": [
    "clean_df.head()"
   ]
  },
  {
   "cell_type": "markdown",
   "id": "c5a2e243-c8d2-4974-acbd-048159fc5917",
   "metadata": {},
   "source": [
    "# --- 6. Feature Engineering ---"
   ]
  },
  {
   "cell_type": "code",
   "execution_count": 19,
   "id": "051075c9-4497-409b-b5a9-073b6f08fcbc",
   "metadata": {},
   "outputs": [],
   "source": [
    "clean_df[\"InvoiceYear\"] = clean_df[\"InvoiceDate\"].dt.year\n",
    "clean_df[\"InvoiceMonth\"] = clean_df[\"InvoiceDate\"].dt.month\n",
    "clean_df[\"InvoiceDay\"] = clean_df[\"InvoiceDate\"].dt.day\n",
    "clean_df[\"InvoiceDateKey\"] = clean_df[\"InvoiceDate\"].dt.strftime(\"%Y%m%d\").astype(int)"
   ]
  },
  {
   "cell_type": "markdown",
   "id": "b152526a-32f3-4236-ba4f-550ad0de88a0",
   "metadata": {},
   "source": [
    "# --- 7. Export the Clean Dataset ---"
   ]
  },
  {
   "cell_type": "code",
   "execution_count": 20,
   "id": "38f76f91-99e6-485f-a41b-81279c6cab37",
   "metadata": {},
   "outputs": [
    {
     "name": "stdout",
     "output_type": "stream",
     "text": [
      "✅ fact_sales.csv exported to: C:\\Users\\venzo\\retail-etl-powerbi\\data\\processed\\fact_sales.csv\n"
     ]
    }
   ],
   "source": [
    "fact_sales_path = PROCESSED_DIR / \"fact_sales.csv\"\n",
    "clean_df.to_csv(fact_sales_path, index=False)\n",
    "print(f\"✅ fact_sales.csv exported to: {fact_sales_path}\")"
   ]
  },
  {
   "cell_type": "markdown",
   "id": "d8d98a0a-ea0a-4413-8fd1-6744a5593b26",
   "metadata": {},
   "source": [
    "# --- 8. Create Dimension Tables ---"
   ]
  },
  {
   "cell_type": "code",
   "execution_count": 21,
   "id": "5db972ee-9200-437f-811a-73a8d227c137",
   "metadata": {},
   "outputs": [
    {
     "name": "stdout",
     "output_type": "stream",
     "text": [
      "✅ Dimension tables exported (product & customer).\n"
     ]
    }
   ],
   "source": [
    "dim_product = clean_df[[\"StockCode\", \"Description\"]].drop_duplicates()\n",
    "dim_customer = clean_df[[\"CustomerID\", \"Country\"]].drop_duplicates()\n",
    "\n",
    "dim_product.to_csv(PROCESSED_DIR / \"dim_product.csv\", index=False)\n",
    "dim_customer.to_csv(PROCESSED_DIR / \"dim_customer.csv\", index=False)\n",
    "\n",
    "print(\"✅ Dimension tables exported (product & customer).\")"
   ]
  },
  {
   "cell_type": "markdown",
   "id": "a04eb373-ad06-4e59-9310-cbdd989ff7b8",
   "metadata": {},
   "source": [
    "# --- 9. Final Check ---"
   ]
  },
  {
   "cell_type": "code",
   "execution_count": 22,
   "id": "062df521-5d70-410a-9f72-c7da1470b71b",
   "metadata": {},
   "outputs": [
    {
     "name": "stdout",
     "output_type": "stream",
     "text": [
      "\n",
      "Files created in /data/processed/:\n",
      " - dim_customer.csv\n",
      " - dim_product.csv\n",
      " - fact_sales.csv\n"
     ]
    }
   ],
   "source": [
    "print(\"\\nFiles created in /data/processed/:\")\n",
    "for file in PROCESSED_DIR.iterdir():\n",
    "    print(\" -\", file.name)"
   ]
  },
  {
   "cell_type": "code",
   "execution_count": null,
   "id": "960f84f2-0e36-4130-8276-5653f4777f72",
   "metadata": {},
   "outputs": [],
   "source": []
  }
 ],
 "metadata": {
  "kernelspec": {
   "display_name": "Python 3 (ipykernel)",
   "language": "python",
   "name": "python3"
  },
  "language_info": {
   "codemirror_mode": {
    "name": "ipython",
    "version": 3
   },
   "file_extension": ".py",
   "mimetype": "text/x-python",
   "name": "python",
   "nbconvert_exporter": "python",
   "pygments_lexer": "ipython3",
   "version": "3.11.14"
  }
 },
 "nbformat": 4,
 "nbformat_minor": 5
}
